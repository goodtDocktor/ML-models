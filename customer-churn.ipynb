{
 "cells": [
  {
   "cell_type": "markdown",
   "id": "b289d78a",
   "metadata": {},
   "source": [
    "# **Project Motivation:**"
   ]
  },
  {
   "cell_type": "markdown",
   "id": "cf047a90",
   "metadata": {},
   "source": [
    "**<u>Research Question:</u> _Can we predict whether a customer will churn (cancel their subscription) or not based on their usage behavior and demographics using Decision Trees and Random Forest classifiers?_**"
   ]
  },
  {
   "cell_type": "code",
   "execution_count": 34,
   "id": "d347948e",
   "metadata": {},
   "outputs": [],
   "source": [
    "# importing required packages\n",
    "from sklearn.datasets import load_digits\n",
    "from sklearn.model_selection import train_test_split, GridSearchCV\n",
    "import pandas as pd\n",
    "from sklearn.tree import DecisionTreeClassifier\n",
    "from sklearn.ensemble import RandomForestClassifier\n",
    "from sklearn.metrics import accuracy_score"
   ]
  },
  {
   "cell_type": "markdown",
   "id": "83491549",
   "metadata": {},
   "source": [
    "### **Data Loading & Splitting**"
   ]
  },
  {
   "cell_type": "code",
   "execution_count": 35,
   "id": "1ff215c6",
   "metadata": {},
   "outputs": [
    {
     "name": "stdout",
     "output_type": "stream",
     "text": [
      "Shape of X_train: (1257, 64)\n",
      "Shape of y_train: (1257,)\n",
      "Shape of X_test: (540, 64)\n",
      "Shape of y_test: (540,)\n"
     ]
    }
   ],
   "source": [
    "digits = load_digits()\n",
    "\n",
    "X = digits.data\n",
    "y = digits.target\n",
    "\n",
    "# spliting the data into training and test sets (70% training / 30% test)\n",
    "X_train, X_test, y_train, y_test = train_test_split(X, y, test_size = 0.3, \n",
    "                                                    random_state = 42)\n",
    "\n",
    "# printing the shapes of the data\n",
    "print(\"Shape of X_train:\", X_train.shape)\n",
    "print(\"Shape of y_train:\", y_train.shape)\n",
    "print(\"Shape of X_test:\", X_test.shape)\n",
    "print(\"Shape of y_test:\", y_test.shape)"
   ]
  },
  {
   "cell_type": "code",
   "execution_count": 15,
   "id": "35b1b4b4",
   "metadata": {},
   "outputs": [
    {
     "name": "stdout",
     "output_type": "stream",
     "text": [
      "First 5 rows of X_train:\n",
      "   pixel_0_0  pixel_0_1  pixel_0_2  pixel_0_3  pixel_0_4  pixel_0_5  \\\n",
      "0        0.0        0.0        5.0       13.0       13.0        8.0   \n",
      "1        0.0        0.0        3.0       14.0       16.0       14.0   \n",
      "2        0.0        0.0        5.0       13.0        2.0        0.0   \n",
      "3        0.0        0.0        0.0        6.0       16.0        2.0   \n",
      "4        0.0        0.0        0.0        7.0       15.0        0.0   \n",
      "\n",
      "   pixel_0_6  pixel_0_7  pixel_1_0  pixel_1_1  ...  pixel_6_6  pixel_6_7  \\\n",
      "0        0.0        0.0        0.0        0.0  ...        4.0        0.0   \n",
      "1        0.0        0.0        0.0        0.0  ...        0.0        0.0   \n",
      "2        0.0        0.0        0.0        0.0  ...       16.0        9.0   \n",
      "3        0.0        0.0        0.0        0.0  ...        0.0        0.0   \n",
      "4        0.0        0.0        0.0        0.0  ...       15.0        0.0   \n",
      "\n",
      "   pixel_7_0  pixel_7_1  pixel_7_2  pixel_7_3  pixel_7_4  pixel_7_5  \\\n",
      "0        0.0        0.0        7.0       15.0       16.0       10.0   \n",
      "1        0.0        0.0        4.0       13.0        1.0        0.0   \n",
      "2        0.0        0.0        3.0       12.0       16.0       16.0   \n",
      "3        0.0        0.0        0.0       10.0       15.0        0.0   \n",
      "4        0.0        0.0        0.0        6.0       16.0       16.0   \n",
      "\n",
      "   pixel_7_6  pixel_7_7  \n",
      "0        0.0        0.0  \n",
      "1        0.0        0.0  \n",
      "2       11.0        2.0  \n",
      "3        0.0        0.0  \n",
      "4       11.0        0.0  \n",
      "\n",
      "[5 rows x 64 columns]\n",
      "\n",
      "First 5 rows of y_train:\n",
      "0    8\n",
      "1    7\n",
      "2    1\n",
      "3    4\n",
      "4    6\n",
      "Name: target, dtype: int64\n"
     ]
    }
   ],
   "source": [
    "# converting to a pandas df to display the data\n",
    "X_train_df = pd.DataFrame(data = X_train, columns = digits.feature_names)\n",
    "y_train_df = pd.Series(data=y_train, name = 'target')\n",
    "\n",
    "# Print the first 5 rows of the training dataset\n",
    "print(\"First 5 rows of X_train:\")\n",
    "print(X_train_df.head())\n",
    "\n",
    "print(\"\\nFirst 5 rows of y_train:\")\n",
    "print(y_train_df.head())"
   ]
  },
  {
   "cell_type": "markdown",
   "id": "fff40069",
   "metadata": {},
   "source": [
    "### **Model Construction**"
   ]
  },
  {
   "cell_type": "code",
   "execution_count": 32,
   "id": "57e6f3f5",
   "metadata": {},
   "outputs": [
    {
     "name": "stdout",
     "output_type": "stream",
     "text": [
      "Decision Tree Accuracy: 0.8425925925925926\n"
     ]
    }
   ],
   "source": [
    "# initializing the Decision Tree\n",
    "dtree = DecisionTreeClassifier()\n",
    "\n",
    "# training the Decision Tree on the training data\n",
    "dtree.fit(X_train, y_train)\n",
    "\n",
    "# making predictions on the test data\n",
    "y_pred_decision_tree = dtree.predict(X_test)\n",
    "\n",
    "# calculating the accuracy for the Decision Tree\n",
    "accuracy_decision_tree = accuracy_score(y_test, y_pred_decision_tree)\n",
    "print(\"Decision Tree Accuracy:\", accuracy_decision_tree)"
   ]
  },
  {
   "cell_type": "code",
   "execution_count": 33,
   "id": "0500080f",
   "metadata": {},
   "outputs": [
    {
     "name": "stdout",
     "output_type": "stream",
     "text": [
      "Random Forest Accuracy: 0.975925925925926\n"
     ]
    }
   ],
   "source": [
    "# initializing the Random Forest\n",
    "rf = RandomForestClassifier(n_estimators = 100)\n",
    "\n",
    "# training the Decision Tree on the training data\n",
    "rf.fit(X_train, y_train)\n",
    "\n",
    "# making predictions on the test data\n",
    "y_pred_random_forest = rf.predict(X_test)\n",
    "\n",
    "# calculating the accuracy for the Random Forest\n",
    "accuracy_random_forest = accuracy_score(y_test, y_pred_random_forest)\n",
    "print(\"Random Forest Accuracy:\", accuracy_random_forest)"
   ]
  },
  {
   "cell_type": "markdown",
   "id": "4e5fad53",
   "metadata": {},
   "source": [
    "### **Hyperparameter Tuning**"
   ]
  },
  {
   "cell_type": "markdown",
   "id": "e911a8b6",
   "metadata": {},
   "source": [
    "### **Decision Tree**"
   ]
  },
  {
   "cell_type": "code",
   "execution_count": 42,
   "id": "f6e64914",
   "metadata": {},
   "outputs": [
    {
     "name": "stdout",
     "output_type": "stream",
     "text": [
      "Best hyperparameters for Decision Tree: {'max_depth': 9}\n",
      "Decision Tree Accuracy: 0.8425925925925926\n"
     ]
    }
   ],
   "source": [
    "# Decision Tree hyperparameter tuning\n",
    "param_grid_decision_tree = {'max_depth': range(1, 11)}  # tuning the max_depth from 1 to 10\n",
    "dtree2 = DecisionTreeClassifier()\n",
    "grid_search_decision_tree = GridSearchCV(dtree2, param_grid_decision_tree, cv = 5)\n",
    "grid_search_decision_tree.fit(X_train, y_train)\n",
    "\n",
    "# getting the best hyperparameters for the Decision Tree\n",
    "best_params_decision_tree = grid_search_decision_tree.best_params_\n",
    "\n",
    "# training the Decision Tree with the best hyperparameters\n",
    "dtree_best = DecisionTreeClassifier(max_depth = best_params_decision_tree['max_depth'])\n",
    "dtree_best.fit(X_train, y_train)\n",
    "\n",
    "# making predictions on the test data\n",
    "y_pred_dtree = dtree_best.predict(X_test)\n",
    "\n",
    "# calculating the accuracy for the Decision Tree\n",
    "accuracy_dtree = accuracy_score(y_test, y_pred_dtree)\n",
    "\n",
    "# printing the best parameters for accuracy for the Decision Tree\n",
    "print(\"Best hyperparameters for Decision Tree:\", best_params_decision_tree)\n",
    "print(\"Decision Tree Accuracy:\", accuracy_decision_tree)"
   ]
  },
  {
   "cell_type": "markdown",
   "id": "7b5caed3",
   "metadata": {},
   "source": [
    "### **Random Forest**"
   ]
  },
  {
   "cell_type": "code",
   "execution_count": 47,
   "id": "07ea44af",
   "metadata": {},
   "outputs": [
    {
     "name": "stdout",
     "output_type": "stream",
     "text": [
      "\n",
      "Best hyperparameters for Random Forest: {'n_estimators': 100}\n",
      "Random Forest Accuracy: 0.9740740740740741\n"
     ]
    }
   ],
   "source": [
    "# Random Forest hyperparameter tuning\n",
    "param_grid_rf = {'n_estimators': [50, 100, 150, 200]}  # tuning n_estimators with different values\n",
    "rf1 = RandomForestClassifier()\n",
    "grid_search_rf = GridSearchCV(rf1, param_grid_rf, cv = 5)\n",
    "grid_search_rf.fit(X_train, y_train)\n",
    "\n",
    "# getting the best hyperparameters for the Random Forest\n",
    "best_params_random_forest = grid_search_rf.best_params_\n",
    "\n",
    "# training the Random Forest with the best hyperparameters\n",
    "rf_best = RandomForestClassifier(n_estimators = best_params_random_forest['n_estimators'])\n",
    "rf_best.fit(X_train, y_train)\n",
    "\n",
    "# making predictions on the test data\n",
    "y_pred_rf = rf_best.predict(X_test)\n",
    "\n",
    "# calculating the accuracy for the Random Forest\n",
    "accuracy_rf = accuracy_score(y_test, y_pred_rf)\n",
    "\n",
    "# printing the best parameters for the accuracy for the Random Forest\n",
    "print(\"\\nBest hyperparameters for Random Forest:\", best_params_random_forest)\n",
    "print(\"Random Forest Accuracy:\", accuracy_rf)"
   ]
  },
  {
   "cell_type": "markdown",
   "id": "8fa2b1ae",
   "metadata": {},
   "source": [
    "### **Best Optimal Parameter Values Model**"
   ]
  },
  {
   "cell_type": "code",
   "execution_count": 49,
   "id": "e93d27b7",
   "metadata": {},
   "outputs": [
    {
     "name": "stdout",
     "output_type": "stream",
     "text": [
      "Decision Tree Accuracy: 0.8444444444444444\n"
     ]
    }
   ],
   "source": [
    "# optimal vals for max_depth & n_estimators\n",
    "best_max_depth = 9 \n",
    "best_n_estimators = 100\n",
    "\n",
    "# creating the Decision Tree with the best hyperparameter\n",
    "dtree2 = DecisionTreeClassifier(max_depth = best_max_depth)\n",
    "\n",
    "# training the tree on the training data\n",
    "dtree2.fit(X_train, y_train)\n",
    "\n",
    "# making predicitons on the test data using the Decision Tree\n",
    "y_pred_dtree2 = dtree2.predict(X_test)\n",
    "\n",
    "# calculating the new accuracy using the best optimal parameter values\n",
    "accuracy_dtree2 = accuracy_score(y_test, y_pred_dtree2)\n",
    "print(\"Decision Tree Accuracy:\", accuracy_dtree2)"
   ]
  },
  {
   "cell_type": "code",
   "execution_count": 50,
   "id": "592a87fc",
   "metadata": {},
   "outputs": [
    {
     "name": "stdout",
     "output_type": "stream",
     "text": [
      "Random Forest Accuracy: 0.975925925925926\n"
     ]
    }
   ],
   "source": [
    "# creating the Random Forest classifier with the best hyperparameter\n",
    "rf2 = RandomForestClassifier(n_estimators = best_n_estimators)\n",
    "\n",
    "# training the Random Forest on the training data\n",
    "rf2.fit(X_train, y_train)\n",
    "\n",
    "# making predictions on the test data using the Random Forest\n",
    "y_pred_rf2 = rf2.predict(X_test)\n",
    "\n",
    "# calculating the new accuracy using the best optimal parameter values\n",
    "accuracy_rf2 = accuracy_score(y_test, y_pred_rf2)\n",
    "print(\"Random Forest Accuracy:\", accuracy_rf2)"
   ]
  },
  {
   "cell_type": "markdown",
   "id": "5ee48384",
   "metadata": {},
   "source": [
    "### **Discussion**\n",
    "\n",
    "__Based on the RQ, YES, we can predict whether a customer will churn (cancel their subscription) or not based on their usage behavior and demographics. Here, the Decision Tree is more prone to overfitting due to it not meshing well with noise in new datasets. Here, the tree overfitting the training data based on the accuracy of the Random Forest. The Tree is making ~ 84% correct predictions on the test data which indicates that it is not capturing the complexity and patterns in the data as effectively as the Random Forest. The lower accuracy from the Decision Tree is an indication of overfitting. For the Random Forest model, this model is not overfitting as the accuracy is close to 1.0 (100%).__ \n",
    "\n",
    "__Most importantly, the Random Forest model is the better model for classification for my dataset because the accuracy score is almost perfect which indicates that the Random Forest is making mostly correct predictions on the test data.__\n"
   ]
  }
 ],
 "metadata": {
  "kernelspec": {
   "display_name": "Python 3 (ipykernel)",
   "language": "python",
   "name": "python3"
  },
  "language_info": {
   "codemirror_mode": {
    "name": "ipython",
    "version": 3
   },
   "file_extension": ".py",
   "mimetype": "text/x-python",
   "name": "python",
   "nbconvert_exporter": "python",
   "pygments_lexer": "ipython3",
   "version": "3.11.3"
  }
 },
 "nbformat": 4,
 "nbformat_minor": 5
}
