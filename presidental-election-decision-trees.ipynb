{
 "cells": [
  {
   "cell_type": "markdown",
   "id": "7d5fb969",
   "metadata": {},
   "source": [
    "# __Project Motivation:__"
   ]
  },
  {
   "cell_type": "markdown",
   "id": "a7db0408",
   "metadata": {},
   "source": [
    "**For a presidential election, campaign organizers for both the Republican and Democrat parties are interested in identifying undecided voters who would consider voting for their party. This project uses BlueOrRed.csv which contains data on a sample of voters with tracked variables including: whether or not they are undecided regarding their candidate preference, age, whether they own a home, gender, marital status, household size, income, years of education, and whether they attend church. For this dataset, I will use the Undecided variable as my output variable and the rest of the variables as my input variables. I want to predict whether a candidate is undecided(Undecided=1) or decided(Undecided=0).**"
   ]
  },
  {
   "cell_type": "code",
   "execution_count": 5,
   "id": "818407f7",
   "metadata": {},
   "outputs": [],
   "source": [
    "# importing required libraries\n",
    "import numpy as np\n",
    "import pandas as pd\n",
    "from sklearn.model_selection import train_test_split, GridSearchCV, cross_val_score, validation_curve\n",
    "from sklearn.tree import DecisionTreeClassifier\n",
    "import matplotlib.pyplot as plt\n",
    "import seaborn as sns \n",
    "from sklearn.metrics import accuracy_score, zero_one_loss, f1_score, classification_report, recall_score, confusion_matrix, precision_score, RocCurveDisplay "
   ]
  },
  {
   "cell_type": "code",
   "execution_count": 2,
   "id": "e3e1b9ed",
   "metadata": {},
   "outputs": [
    {
     "data": {
      "text/html": [
       "<div>\n",
       "<style scoped>\n",
       "    .dataframe tbody tr th:only-of-type {\n",
       "        vertical-align: middle;\n",
       "    }\n",
       "\n",
       "    .dataframe tbody tr th {\n",
       "        vertical-align: top;\n",
       "    }\n",
       "\n",
       "    .dataframe thead th {\n",
       "        text-align: right;\n",
       "    }\n",
       "</style>\n",
       "<table border=\"1\" class=\"dataframe\">\n",
       "  <thead>\n",
       "    <tr style=\"text-align: right;\">\n",
       "      <th></th>\n",
       "      <th>Age</th>\n",
       "      <th>HomeOwner</th>\n",
       "      <th>Female</th>\n",
       "      <th>Married</th>\n",
       "      <th>HouseholdSize</th>\n",
       "      <th>Income</th>\n",
       "      <th>Education</th>\n",
       "      <th>Church</th>\n",
       "      <th>Undecided</th>\n",
       "    </tr>\n",
       "  </thead>\n",
       "  <tbody>\n",
       "    <tr>\n",
       "      <th>0</th>\n",
       "      <td>False</td>\n",
       "      <td>False</td>\n",
       "      <td>False</td>\n",
       "      <td>False</td>\n",
       "      <td>False</td>\n",
       "      <td>False</td>\n",
       "      <td>False</td>\n",
       "      <td>False</td>\n",
       "      <td>False</td>\n",
       "    </tr>\n",
       "    <tr>\n",
       "      <th>1</th>\n",
       "      <td>False</td>\n",
       "      <td>False</td>\n",
       "      <td>False</td>\n",
       "      <td>False</td>\n",
       "      <td>False</td>\n",
       "      <td>False</td>\n",
       "      <td>False</td>\n",
       "      <td>False</td>\n",
       "      <td>False</td>\n",
       "    </tr>\n",
       "    <tr>\n",
       "      <th>2</th>\n",
       "      <td>False</td>\n",
       "      <td>False</td>\n",
       "      <td>False</td>\n",
       "      <td>False</td>\n",
       "      <td>False</td>\n",
       "      <td>False</td>\n",
       "      <td>False</td>\n",
       "      <td>False</td>\n",
       "      <td>False</td>\n",
       "    </tr>\n",
       "    <tr>\n",
       "      <th>3</th>\n",
       "      <td>False</td>\n",
       "      <td>False</td>\n",
       "      <td>False</td>\n",
       "      <td>False</td>\n",
       "      <td>False</td>\n",
       "      <td>False</td>\n",
       "      <td>False</td>\n",
       "      <td>False</td>\n",
       "      <td>False</td>\n",
       "    </tr>\n",
       "    <tr>\n",
       "      <th>4</th>\n",
       "      <td>False</td>\n",
       "      <td>False</td>\n",
       "      <td>False</td>\n",
       "      <td>False</td>\n",
       "      <td>False</td>\n",
       "      <td>False</td>\n",
       "      <td>False</td>\n",
       "      <td>False</td>\n",
       "      <td>False</td>\n",
       "    </tr>\n",
       "    <tr>\n",
       "      <th>...</th>\n",
       "      <td>...</td>\n",
       "      <td>...</td>\n",
       "      <td>...</td>\n",
       "      <td>...</td>\n",
       "      <td>...</td>\n",
       "      <td>...</td>\n",
       "      <td>...</td>\n",
       "      <td>...</td>\n",
       "      <td>...</td>\n",
       "    </tr>\n",
       "    <tr>\n",
       "      <th>9995</th>\n",
       "      <td>False</td>\n",
       "      <td>False</td>\n",
       "      <td>False</td>\n",
       "      <td>False</td>\n",
       "      <td>False</td>\n",
       "      <td>False</td>\n",
       "      <td>False</td>\n",
       "      <td>False</td>\n",
       "      <td>False</td>\n",
       "    </tr>\n",
       "    <tr>\n",
       "      <th>9996</th>\n",
       "      <td>False</td>\n",
       "      <td>False</td>\n",
       "      <td>False</td>\n",
       "      <td>False</td>\n",
       "      <td>False</td>\n",
       "      <td>False</td>\n",
       "      <td>False</td>\n",
       "      <td>False</td>\n",
       "      <td>False</td>\n",
       "    </tr>\n",
       "    <tr>\n",
       "      <th>9997</th>\n",
       "      <td>False</td>\n",
       "      <td>False</td>\n",
       "      <td>False</td>\n",
       "      <td>False</td>\n",
       "      <td>False</td>\n",
       "      <td>False</td>\n",
       "      <td>False</td>\n",
       "      <td>False</td>\n",
       "      <td>False</td>\n",
       "    </tr>\n",
       "    <tr>\n",
       "      <th>9998</th>\n",
       "      <td>False</td>\n",
       "      <td>False</td>\n",
       "      <td>False</td>\n",
       "      <td>False</td>\n",
       "      <td>False</td>\n",
       "      <td>False</td>\n",
       "      <td>False</td>\n",
       "      <td>False</td>\n",
       "      <td>False</td>\n",
       "    </tr>\n",
       "    <tr>\n",
       "      <th>9999</th>\n",
       "      <td>False</td>\n",
       "      <td>False</td>\n",
       "      <td>False</td>\n",
       "      <td>False</td>\n",
       "      <td>False</td>\n",
       "      <td>False</td>\n",
       "      <td>False</td>\n",
       "      <td>False</td>\n",
       "      <td>False</td>\n",
       "    </tr>\n",
       "  </tbody>\n",
       "</table>\n",
       "<p>10000 rows × 9 columns</p>\n",
       "</div>"
      ],
      "text/plain": [
       "        Age  HomeOwner  Female  Married  HouseholdSize  Income  Education  \\\n",
       "0     False      False   False    False          False   False      False   \n",
       "1     False      False   False    False          False   False      False   \n",
       "2     False      False   False    False          False   False      False   \n",
       "3     False      False   False    False          False   False      False   \n",
       "4     False      False   False    False          False   False      False   \n",
       "...     ...        ...     ...      ...            ...     ...        ...   \n",
       "9995  False      False   False    False          False   False      False   \n",
       "9996  False      False   False    False          False   False      False   \n",
       "9997  False      False   False    False          False   False      False   \n",
       "9998  False      False   False    False          False   False      False   \n",
       "9999  False      False   False    False          False   False      False   \n",
       "\n",
       "      Church  Undecided  \n",
       "0      False      False  \n",
       "1      False      False  \n",
       "2      False      False  \n",
       "3      False      False  \n",
       "4      False      False  \n",
       "...      ...        ...  \n",
       "9995   False      False  \n",
       "9996   False      False  \n",
       "9997   False      False  \n",
       "9998   False      False  \n",
       "9999   False      False  \n",
       "\n",
       "[10000 rows x 9 columns]"
      ]
     },
     "execution_count": 2,
     "metadata": {},
     "output_type": "execute_result"
    }
   ],
   "source": [
    "# loading in data from csv\n",
    "voters = pd.read_csv('BlueOrRed.csv')\n",
    "\n",
    "# checking for missing data\n",
    "missing = voters.isnull()\n",
    "missing"
   ]
  },
  {
   "cell_type": "code",
   "execution_count": 3,
   "id": "9abfc2d8",
   "metadata": {},
   "outputs": [
    {
     "data": {
      "text/html": [
       "<div>\n",
       "<style scoped>\n",
       "    .dataframe tbody tr th:only-of-type {\n",
       "        vertical-align: middle;\n",
       "    }\n",
       "\n",
       "    .dataframe tbody tr th {\n",
       "        vertical-align: top;\n",
       "    }\n",
       "\n",
       "    .dataframe thead th {\n",
       "        text-align: right;\n",
       "    }\n",
       "</style>\n",
       "<table border=\"1\" class=\"dataframe\">\n",
       "  <thead>\n",
       "    <tr style=\"text-align: right;\">\n",
       "      <th></th>\n",
       "      <th>Age</th>\n",
       "      <th>HomeOwner</th>\n",
       "      <th>Female</th>\n",
       "      <th>Married</th>\n",
       "      <th>HouseholdSize</th>\n",
       "      <th>Income</th>\n",
       "      <th>Education</th>\n",
       "      <th>Church</th>\n",
       "      <th>Undecided</th>\n",
       "    </tr>\n",
       "  </thead>\n",
       "  <tbody>\n",
       "    <tr>\n",
       "      <th>0</th>\n",
       "      <td>51</td>\n",
       "      <td>1</td>\n",
       "      <td>1</td>\n",
       "      <td>1</td>\n",
       "      <td>4</td>\n",
       "      <td>171.0</td>\n",
       "      <td>15</td>\n",
       "      <td>0</td>\n",
       "      <td>1</td>\n",
       "    </tr>\n",
       "    <tr>\n",
       "      <th>1</th>\n",
       "      <td>46</td>\n",
       "      <td>1</td>\n",
       "      <td>1</td>\n",
       "      <td>1</td>\n",
       "      <td>6</td>\n",
       "      <td>420.0</td>\n",
       "      <td>15</td>\n",
       "      <td>1</td>\n",
       "      <td>0</td>\n",
       "    </tr>\n",
       "    <tr>\n",
       "      <th>2</th>\n",
       "      <td>55</td>\n",
       "      <td>1</td>\n",
       "      <td>0</td>\n",
       "      <td>1</td>\n",
       "      <td>6</td>\n",
       "      <td>132.0</td>\n",
       "      <td>16</td>\n",
       "      <td>0</td>\n",
       "      <td>1</td>\n",
       "    </tr>\n",
       "    <tr>\n",
       "      <th>3</th>\n",
       "      <td>50</td>\n",
       "      <td>1</td>\n",
       "      <td>0</td>\n",
       "      <td>1</td>\n",
       "      <td>4</td>\n",
       "      <td>18.0</td>\n",
       "      <td>8</td>\n",
       "      <td>0</td>\n",
       "      <td>0</td>\n",
       "    </tr>\n",
       "    <tr>\n",
       "      <th>4</th>\n",
       "      <td>49</td>\n",
       "      <td>1</td>\n",
       "      <td>1</td>\n",
       "      <td>1</td>\n",
       "      <td>2</td>\n",
       "      <td>66.0</td>\n",
       "      <td>15</td>\n",
       "      <td>1</td>\n",
       "      <td>1</td>\n",
       "    </tr>\n",
       "    <tr>\n",
       "      <th>...</th>\n",
       "      <td>...</td>\n",
       "      <td>...</td>\n",
       "      <td>...</td>\n",
       "      <td>...</td>\n",
       "      <td>...</td>\n",
       "      <td>...</td>\n",
       "      <td>...</td>\n",
       "      <td>...</td>\n",
       "      <td>...</td>\n",
       "    </tr>\n",
       "    <tr>\n",
       "      <th>9995</th>\n",
       "      <td>55</td>\n",
       "      <td>1</td>\n",
       "      <td>1</td>\n",
       "      <td>1</td>\n",
       "      <td>2</td>\n",
       "      <td>37.0</td>\n",
       "      <td>18</td>\n",
       "      <td>0</td>\n",
       "      <td>1</td>\n",
       "    </tr>\n",
       "    <tr>\n",
       "      <th>9996</th>\n",
       "      <td>29</td>\n",
       "      <td>1</td>\n",
       "      <td>1</td>\n",
       "      <td>0</td>\n",
       "      <td>5</td>\n",
       "      <td>100.0</td>\n",
       "      <td>15</td>\n",
       "      <td>1</td>\n",
       "      <td>1</td>\n",
       "    </tr>\n",
       "    <tr>\n",
       "      <th>9997</th>\n",
       "      <td>59</td>\n",
       "      <td>0</td>\n",
       "      <td>1</td>\n",
       "      <td>0</td>\n",
       "      <td>1</td>\n",
       "      <td>35.0</td>\n",
       "      <td>20</td>\n",
       "      <td>0</td>\n",
       "      <td>1</td>\n",
       "    </tr>\n",
       "    <tr>\n",
       "      <th>9998</th>\n",
       "      <td>66</td>\n",
       "      <td>0</td>\n",
       "      <td>0</td>\n",
       "      <td>1</td>\n",
       "      <td>3</td>\n",
       "      <td>4.0</td>\n",
       "      <td>8</td>\n",
       "      <td>1</td>\n",
       "      <td>0</td>\n",
       "    </tr>\n",
       "    <tr>\n",
       "      <th>9999</th>\n",
       "      <td>55</td>\n",
       "      <td>1</td>\n",
       "      <td>1</td>\n",
       "      <td>1</td>\n",
       "      <td>4</td>\n",
       "      <td>19.0</td>\n",
       "      <td>16</td>\n",
       "      <td>1</td>\n",
       "      <td>1</td>\n",
       "    </tr>\n",
       "  </tbody>\n",
       "</table>\n",
       "<p>10000 rows × 9 columns</p>\n",
       "</div>"
      ],
      "text/plain": [
       "      Age  HomeOwner  Female  Married  HouseholdSize  Income  Education  \\\n",
       "0      51          1       1        1              4   171.0         15   \n",
       "1      46          1       1        1              6   420.0         15   \n",
       "2      55          1       0        1              6   132.0         16   \n",
       "3      50          1       0        1              4    18.0          8   \n",
       "4      49          1       1        1              2    66.0         15   \n",
       "...   ...        ...     ...      ...            ...     ...        ...   \n",
       "9995   55          1       1        1              2    37.0         18   \n",
       "9996   29          1       1        0              5   100.0         15   \n",
       "9997   59          0       1        0              1    35.0         20   \n",
       "9998   66          0       0        1              3     4.0          8   \n",
       "9999   55          1       1        1              4    19.0         16   \n",
       "\n",
       "      Church  Undecided  \n",
       "0          0          1  \n",
       "1          1          0  \n",
       "2          0          1  \n",
       "3          0          0  \n",
       "4          1          1  \n",
       "...      ...        ...  \n",
       "9995       0          1  \n",
       "9996       1          1  \n",
       "9997       0          1  \n",
       "9998       1          0  \n",
       "9999       1          1  \n",
       "\n",
       "[10000 rows x 9 columns]"
      ]
     },
     "execution_count": 3,
     "metadata": {},
     "output_type": "execute_result"
    }
   ],
   "source": [
    "# dropping cases that have missing data\n",
    "dropped = voters.dropna()\n",
    "dropped"
   ]
  },
  {
   "cell_type": "markdown",
   "id": "c13ebb24",
   "metadata": {},
   "source": [
    "**Normalizing the continuous variables using min-max normalization. Here, I obtain a new dataset that has my normalized continuous input variables, the categorical input variables (the categorical input variables are fine and don’t need to be normalized), and my output variable.**"
   ]
  },
  {
   "cell_type": "code",
   "execution_count": 4,
   "id": "df390038",
   "metadata": {},
   "outputs": [
    {
     "data": {
      "text/html": [
       "<div>\n",
       "<style scoped>\n",
       "    .dataframe tbody tr th:only-of-type {\n",
       "        vertical-align: middle;\n",
       "    }\n",
       "\n",
       "    .dataframe tbody tr th {\n",
       "        vertical-align: top;\n",
       "    }\n",
       "\n",
       "    .dataframe thead th {\n",
       "        text-align: right;\n",
       "    }\n",
       "</style>\n",
       "<table border=\"1\" class=\"dataframe\">\n",
       "  <thead>\n",
       "    <tr style=\"text-align: right;\">\n",
       "      <th></th>\n",
       "      <th>Age</th>\n",
       "      <th>HomeOwner</th>\n",
       "      <th>Female</th>\n",
       "      <th>Married</th>\n",
       "      <th>HouseholdSize</th>\n",
       "      <th>Income</th>\n",
       "      <th>Education</th>\n",
       "      <th>Church</th>\n",
       "      <th>Undecided</th>\n",
       "    </tr>\n",
       "  </thead>\n",
       "  <tbody>\n",
       "    <tr>\n",
       "      <th>0</th>\n",
       "      <td>0.523810</td>\n",
       "      <td>1.0</td>\n",
       "      <td>1.0</td>\n",
       "      <td>1.0</td>\n",
       "      <td>0.500000</td>\n",
       "      <td>0.306422</td>\n",
       "      <td>0.583333</td>\n",
       "      <td>0.0</td>\n",
       "      <td>1.0</td>\n",
       "    </tr>\n",
       "    <tr>\n",
       "      <th>1</th>\n",
       "      <td>0.444444</td>\n",
       "      <td>1.0</td>\n",
       "      <td>1.0</td>\n",
       "      <td>1.0</td>\n",
       "      <td>0.833333</td>\n",
       "      <td>0.763303</td>\n",
       "      <td>0.583333</td>\n",
       "      <td>1.0</td>\n",
       "      <td>0.0</td>\n",
       "    </tr>\n",
       "    <tr>\n",
       "      <th>2</th>\n",
       "      <td>0.587302</td>\n",
       "      <td>1.0</td>\n",
       "      <td>0.0</td>\n",
       "      <td>1.0</td>\n",
       "      <td>0.833333</td>\n",
       "      <td>0.234862</td>\n",
       "      <td>0.666667</td>\n",
       "      <td>0.0</td>\n",
       "      <td>1.0</td>\n",
       "    </tr>\n",
       "    <tr>\n",
       "      <th>3</th>\n",
       "      <td>0.507937</td>\n",
       "      <td>1.0</td>\n",
       "      <td>0.0</td>\n",
       "      <td>1.0</td>\n",
       "      <td>0.500000</td>\n",
       "      <td>0.025688</td>\n",
       "      <td>0.000000</td>\n",
       "      <td>0.0</td>\n",
       "      <td>0.0</td>\n",
       "    </tr>\n",
       "    <tr>\n",
       "      <th>4</th>\n",
       "      <td>0.492063</td>\n",
       "      <td>1.0</td>\n",
       "      <td>1.0</td>\n",
       "      <td>1.0</td>\n",
       "      <td>0.166667</td>\n",
       "      <td>0.113761</td>\n",
       "      <td>0.583333</td>\n",
       "      <td>1.0</td>\n",
       "      <td>1.0</td>\n",
       "    </tr>\n",
       "    <tr>\n",
       "      <th>...</th>\n",
       "      <td>...</td>\n",
       "      <td>...</td>\n",
       "      <td>...</td>\n",
       "      <td>...</td>\n",
       "      <td>...</td>\n",
       "      <td>...</td>\n",
       "      <td>...</td>\n",
       "      <td>...</td>\n",
       "      <td>...</td>\n",
       "    </tr>\n",
       "    <tr>\n",
       "      <th>9995</th>\n",
       "      <td>0.587302</td>\n",
       "      <td>1.0</td>\n",
       "      <td>1.0</td>\n",
       "      <td>1.0</td>\n",
       "      <td>0.166667</td>\n",
       "      <td>0.060550</td>\n",
       "      <td>0.833333</td>\n",
       "      <td>0.0</td>\n",
       "      <td>1.0</td>\n",
       "    </tr>\n",
       "    <tr>\n",
       "      <th>9996</th>\n",
       "      <td>0.174603</td>\n",
       "      <td>1.0</td>\n",
       "      <td>1.0</td>\n",
       "      <td>0.0</td>\n",
       "      <td>0.666667</td>\n",
       "      <td>0.176147</td>\n",
       "      <td>0.583333</td>\n",
       "      <td>1.0</td>\n",
       "      <td>1.0</td>\n",
       "    </tr>\n",
       "    <tr>\n",
       "      <th>9997</th>\n",
       "      <td>0.650794</td>\n",
       "      <td>0.0</td>\n",
       "      <td>1.0</td>\n",
       "      <td>0.0</td>\n",
       "      <td>0.000000</td>\n",
       "      <td>0.056881</td>\n",
       "      <td>1.000000</td>\n",
       "      <td>0.0</td>\n",
       "      <td>1.0</td>\n",
       "    </tr>\n",
       "    <tr>\n",
       "      <th>9998</th>\n",
       "      <td>0.761905</td>\n",
       "      <td>0.0</td>\n",
       "      <td>0.0</td>\n",
       "      <td>1.0</td>\n",
       "      <td>0.333333</td>\n",
       "      <td>0.000000</td>\n",
       "      <td>0.000000</td>\n",
       "      <td>1.0</td>\n",
       "      <td>0.0</td>\n",
       "    </tr>\n",
       "    <tr>\n",
       "      <th>9999</th>\n",
       "      <td>0.587302</td>\n",
       "      <td>1.0</td>\n",
       "      <td>1.0</td>\n",
       "      <td>1.0</td>\n",
       "      <td>0.500000</td>\n",
       "      <td>0.027523</td>\n",
       "      <td>0.666667</td>\n",
       "      <td>1.0</td>\n",
       "      <td>1.0</td>\n",
       "    </tr>\n",
       "  </tbody>\n",
       "</table>\n",
       "<p>10000 rows × 9 columns</p>\n",
       "</div>"
      ],
      "text/plain": [
       "           Age  HomeOwner  Female  Married  HouseholdSize    Income  \\\n",
       "0     0.523810        1.0     1.0      1.0       0.500000  0.306422   \n",
       "1     0.444444        1.0     1.0      1.0       0.833333  0.763303   \n",
       "2     0.587302        1.0     0.0      1.0       0.833333  0.234862   \n",
       "3     0.507937        1.0     0.0      1.0       0.500000  0.025688   \n",
       "4     0.492063        1.0     1.0      1.0       0.166667  0.113761   \n",
       "...        ...        ...     ...      ...            ...       ...   \n",
       "9995  0.587302        1.0     1.0      1.0       0.166667  0.060550   \n",
       "9996  0.174603        1.0     1.0      0.0       0.666667  0.176147   \n",
       "9997  0.650794        0.0     1.0      0.0       0.000000  0.056881   \n",
       "9998  0.761905        0.0     0.0      1.0       0.333333  0.000000   \n",
       "9999  0.587302        1.0     1.0      1.0       0.500000  0.027523   \n",
       "\n",
       "      Education  Church  Undecided  \n",
       "0      0.583333     0.0        1.0  \n",
       "1      0.583333     1.0        0.0  \n",
       "2      0.666667     0.0        1.0  \n",
       "3      0.000000     0.0        0.0  \n",
       "4      0.583333     1.0        1.0  \n",
       "...         ...     ...        ...  \n",
       "9995   0.833333     0.0        1.0  \n",
       "9996   0.583333     1.0        1.0  \n",
       "9997   1.000000     0.0        1.0  \n",
       "9998   0.000000     1.0        0.0  \n",
       "9999   0.666667     1.0        1.0  \n",
       "\n",
       "[10000 rows x 9 columns]"
      ]
     },
     "execution_count": 4,
     "metadata": {},
     "output_type": "execute_result"
    }
   ],
   "source": [
    "# normalizing continuous variables using min-max normalization\n",
    "numerical = voters.select_dtypes(include = 'number').columns\n",
    "\n",
    "min_vals = voters[numerical].min()\n",
    "max_vals = voters[numerical].max()\n",
    "\n",
    "voters[numerical] = (voters[numerical] - min_vals) / (max_vals - min_vals)\n",
    "voters[numerical]"
   ]
  },
  {
   "cell_type": "markdown",
   "id": "2cd8afd0",
   "metadata": {},
   "source": [
    "**Using the train_test_split() function in the sklearn.model_selection module in scikit-learn to split the data into training and test sets. My test set should is 30% of the entire data. I then print the shape of the X_train, y_train, X_test and y_test data. I use the default value of the random state in splitting the data, which is random_state=42.**"
   ]
  },
  {
   "cell_type": "code",
   "execution_count": 6,
   "id": "b6517baf",
   "metadata": {},
   "outputs": [
    {
     "name": "stdout",
     "output_type": "stream",
     "text": [
      "Shape of X_train: (7000, 8)\n",
      "Shape of y_train: (7000,)\n",
      "Shape of X_test: (3000, 8)\n",
      "Shape of y_test: (3000,)\n"
     ]
    }
   ],
   "source": [
    "X = voters[numerical].drop('Undecided', axis = 1)\n",
    "y = voters[numerical]['Undecided']\n",
    "\n",
    "# training and splitting the data (30%/70%)\n",
    "X_train, X_test, y_train, y_test = train_test_split(X, y, test_size = 0.3, random_state = 42)\n",
    "\n",
    "#printing the shapes\n",
    "print(\"Shape of X_train:\", X_train.shape)\n",
    "print(\"Shape of y_train:\", y_train.shape)\n",
    "print(\"Shape of X_test:\", X_test.shape)\n",
    "print(\"Shape of y_test:\", y_test.shape)"
   ]
  },
  {
   "cell_type": "markdown",
   "id": "9b19929f",
   "metadata": {},
   "source": [
    "**Here, I construct a decision tree and fit the tree into the data. Then, I use my decision tree model to make predictions on the training set as well as on the test set. Finally, I assign my results to y_train_pred and y_test_pred respectively. The first 100 predicitons  for each of the y_train_pred and y_test_pred are printed out.** \n"
   ]
  },
  {
   "cell_type": "code",
   "execution_count": 7,
   "id": "37caefb2",
   "metadata": {},
   "outputs": [
    {
     "name": "stdout",
     "output_type": "stream",
     "text": [
      "[0. 0. 0. 0. 1. 0. 0. 0. 0. 1. 0. 1. 0. 1. 1. 0. 0. 0. 0. 0. 0. 0. 0. 1.\n",
      " 1. 1. 0. 1. 1. 0. 0. 0. 0. 1. 1. 1. 0. 1. 1. 0. 1. 0. 0. 0. 0. 0. 1. 1.\n",
      " 0. 1. 1. 0. 1. 0. 1. 1. 0. 0. 1. 0. 0. 0. 0. 1. 0. 0. 0. 0. 0. 1. 0. 0.\n",
      " 0. 0. 0. 1. 0. 1. 0. 0. 1. 0. 1. 0. 0. 0. 1. 0. 0. 0. 0. 1. 1. 1. 0. 1.\n",
      " 0. 0. 0. 1.]\n",
      "6252    0.0\n",
      "4684    1.0\n",
      "1731    1.0\n",
      "4742    1.0\n",
      "4521    1.0\n",
      "       ... \n",
      "3787    0.0\n",
      "9189    0.0\n",
      "7825    1.0\n",
      "7539    1.0\n",
      "7231    0.0\n",
      "Name: Undecided, Length: 100, dtype: float64\n"
     ]
    }
   ],
   "source": [
    "decision_tree = DecisionTreeClassifier()\n",
    "\n",
    "decision_tree.fit(X_train, y_train)\n",
    "\n",
    "# making predictions on test set\n",
    "y_test_pred = decision_tree.predict(X_test)\n",
    "y_train_pred = decision_tree.predict(X_train)\n",
    "\n",
    "#printing out first 100 preds for y_train\n",
    "print(y_train_pred[:100])\n",
    "\n",
    "#printing out first 100 preds for y_test\n",
    "print(y_test[:100])"
   ]
  },
  {
   "cell_type": "code",
   "execution_count": 44,
   "id": "d6ff004f",
   "metadata": {},
   "outputs": [
    {
     "name": "stdout",
     "output_type": "stream",
     "text": [
      "Train Accuracy: 1.0\n"
     ]
    }
   ],
   "source": [
    "# overall accuracy on the training set\n",
    "train_accuracy = metrics.accuracy_score(y_train, y_train_pred)\n",
    "print(\"Train Accuracy:\", train_accuracy)"
   ]
  },
  {
   "cell_type": "code",
   "execution_count": 45,
   "id": "6249af0e",
   "metadata": {},
   "outputs": [
    {
     "name": "stdout",
     "output_type": "stream",
     "text": [
      "Test Accuracy: 0.9696666666666667\n"
     ]
    }
   ],
   "source": [
    "# overall accuracy on the test set\n",
    "test_accuracy = metrics.accuracy_score(y_test, y_test_pred)\n",
    "print(\"Test Accuracy:\", test_accuracy)"
   ]
  },
  {
   "cell_type": "markdown",
   "id": "3408a75f",
   "metadata": {},
   "source": [
    "**I am using the .score() method of the tree estimator to find the overall accuracy on the training set and test set.**"
   ]
  },
  {
   "cell_type": "code",
   "execution_count": 8,
   "id": "ed875590",
   "metadata": {},
   "outputs": [
    {
     "name": "stdout",
     "output_type": "stream",
     "text": [
      "Train Accuracy using .score method: 1.0\n",
      "Test Accuracy using .score method: 0.967\n"
     ]
    }
   ],
   "source": [
    "# using .score() method on the training set\n",
    "train_accuracy_score = decision_tree.score(X_train, y_train)\n",
    "print(\"Train Accuracy using .score method:\", train_accuracy_score)\n",
    "\n",
    "# using .score() method on the test set\n",
    "test_accuracy_score = decision_tree.score(X_test, y_test)\n",
    "print(\"Test Accuracy using .score method:\", test_accuracy_score)"
   ]
  },
  {
   "cell_type": "markdown",
   "id": "fdf7dd8d",
   "metadata": {},
   "source": [
    "**I am using the zero_one_loss() function inside the sklearn.metric module to compute the overall prediction error of the tree model on the test set and training set.**"
   ]
  },
  {
   "cell_type": "code",
   "execution_count": 9,
   "id": "771ffc85",
   "metadata": {},
   "outputs": [
    {
     "name": "stdout",
     "output_type": "stream",
     "text": [
      "Prediction Error of training set is: 0.0\n",
      "Prediction Error on test set is: 0.03300000000000003\n"
     ]
    }
   ],
   "source": [
    "# using zero_one_loss() method on the training set\n",
    "training_error = zero_one_loss(y_train, y_train_pred)\n",
    "print(\"Prediction Error of training set is:\", training_error)\n",
    "\n",
    "# using zero_one_loss() method on test set\n",
    "test_error = zero_one_loss(y_test, y_test_pred)\n",
    "print(\"Prediction Error on test set is:\", test_error)"
   ]
  },
  {
   "cell_type": "markdown",
   "id": "d68929e5",
   "metadata": {},
   "source": [
    "**Generating the classification report using the classification_report().** "
   ]
  },
  {
   "cell_type": "code",
   "execution_count": 50,
   "id": "318041a7",
   "metadata": {},
   "outputs": [
    {
     "name": "stdout",
     "output_type": "stream",
     "text": [
      "              precision    recall  f1-score   support\n",
      "\n",
      "         0.0       0.98      0.97      0.97      1814\n",
      "         1.0       0.96      0.97      0.96      1186\n",
      "\n",
      "    accuracy                           0.97      3000\n",
      "   macro avg       0.97      0.97      0.97      3000\n",
      "weighted avg       0.97      0.97      0.97      3000\n",
      "\n"
     ]
    }
   ],
   "source": [
    "c_report = classification_report(y_test, y_test_pred)\n",
    "print(c_report)"
   ]
  },
  {
   "cell_type": "markdown",
   "id": "602e350b",
   "metadata": {},
   "source": [
    "**Generating the confusion matrix using confusion_matrix().**"
   ]
  },
  {
   "cell_type": "code",
   "execution_count": 51,
   "id": "1299439a",
   "metadata": {},
   "outputs": [
    {
     "name": "stdout",
     "output_type": "stream",
     "text": [
      "[[1764   50]\n",
      " [  41 1145]]\n"
     ]
    }
   ],
   "source": [
    "c_matrix = confusion_matrix(y_test, y_test_pred)\n",
    "print(c_matrix)"
   ]
  },
  {
   "cell_type": "markdown",
   "id": "b825a8ee",
   "metadata": {},
   "source": [
    "**Generating the precision score using precision_score().**"
   ]
  },
  {
   "cell_type": "code",
   "execution_count": 52,
   "id": "5d984e6e",
   "metadata": {},
   "outputs": [
    {
     "name": "stdout",
     "output_type": "stream",
     "text": [
      "0.9581589958158996\n"
     ]
    }
   ],
   "source": [
    "p_score = precision_score(y_test, y_test_pred)\n",
    "print(p_score)"
   ]
  },
  {
   "cell_type": "markdown",
   "id": "6bd17758",
   "metadata": {},
   "source": [
    "**Generating the recall score using recall_score().**"
   ]
  },
  {
   "cell_type": "code",
   "execution_count": 53,
   "id": "7d03349b",
   "metadata": {},
   "outputs": [
    {
     "name": "stdout",
     "output_type": "stream",
     "text": [
      "0.9654300168634065\n"
     ]
    }
   ],
   "source": [
    "r_score = recall_score(y_test, y_test_pred)\n",
    "print(r_score)"
   ]
  },
  {
   "cell_type": "markdown",
   "id": "54bf6e2f",
   "metadata": {},
   "source": [
    "**Generating the f1 score using f1_score().**"
   ]
  },
  {
   "cell_type": "code",
   "execution_count": 54,
   "id": "0056312b",
   "metadata": {},
   "outputs": [
    {
     "name": "stdout",
     "output_type": "stream",
     "text": [
      "0.9617807643847123\n"
     ]
    }
   ],
   "source": [
    "f1 = f1_score(y_test, y_test_pred)\n",
    "print(f1)"
   ]
  },
  {
   "cell_type": "markdown",
   "id": "69005755",
   "metadata": {},
   "source": [
    "**Generating a roc curve using plot_roc_curve().** "
   ]
  },
  {
   "cell_type": "code",
   "execution_count": 57,
   "id": "ce4441ef",
   "metadata": {},
   "outputs": [
    {
     "data": {
      "image/png": "[encoded data removed]",
      "text/plain": [
       "<Figure size 640x480 with 1 Axes>"
      ]
     },
     "metadata": {},
     "output_type": "display_data"
    }
   ],
   "source": [
    "# plot_roc_curve() is outdated, used RocCurveDisplay instead\n",
    "roc_display = RocCurveDisplay.from_estimator(decision_tree, X_test, y_test)"
   ]
  },
  {
   "cell_type": "markdown",
   "id": "fef75732",
   "metadata": {},
   "source": [
    "**Here, I plot the confusion matrix using Seaborn.**"
   ]
  },
  {
   "cell_type": "code",
   "execution_count": 65,
   "id": "ddac57b1",
   "metadata": {},
   "outputs": [
    {
     "data": {
      "image/png": "[encoded data removed]",
      "text/plain": [
       "<Figure size 600x400 with 1 Axes>"
      ]
     },
     "metadata": {},
     "output_type": "display_data"
    }
   ],
   "source": [
    "# plot_confusion_matrix is outdated, using seaborn instead\n",
    "plt.figure(figsize = (6, 4))\n",
    "sns.heatmap(c_matrix, annot = True, fmt = 'd', cmap = 'Blues', cbar = False)\n",
    "plt.xlabel('Predicted Labels')\n",
    "plt.ylabel('True Labels')\n",
    "plt.title('Confusion Matrix')\n",
    "plt.show()"
   ]
  },
  {
   "cell_type": "markdown",
   "id": "ab776a53",
   "metadata": {},
   "source": [
    "**I retrieve the maximum depth of this decision tree while using clf.tree_.max_depth where clf is the name of my estimator, and tree is the module in sklearn.** "
   ]
  },
  {
   "cell_type": "code",
   "execution_count": 66,
   "id": "08d060f6",
   "metadata": {},
   "outputs": [
    {
     "name": "stdout",
     "output_type": "stream",
     "text": [
      "Max Depth of the Decision Tree: 18\n"
     ]
    }
   ],
   "source": [
    "max_depth = decision_tree.tree_.max_depth\n",
    "\n",
    "print(\"Max Depth of the Decision Tree:\", max_depth)"
   ]
  },
  {
   "cell_type": "markdown",
   "id": "41a3de2b",
   "metadata": {},
   "source": [
    "__1. I find the optimal depth of the tree by tuning the max_depth hyperparameter.__\n",
    "\n",
    "__2. I write a for loop to iteratively compute the overall error rate of the model on the test set only for the possible values of the maximum depth of the tree.__\n",
    "\n",
    "**_I needed to initialize a variable outside the loop to track the error rates for each maximum depth value._**\n"
   ]
  },
  {
   "cell_type": "code",
   "execution_count": 79,
   "id": "a9737613",
   "metadata": {},
   "outputs": [
    {
     "name": "stdout",
     "output_type": "stream",
     "text": [
      "Error rates for each max_depth value: [0.31799999999999995]\n",
      "Optimal max_depth: 1\n"
     ]
    }
   ],
   "source": [
    "error_rates = []\n",
    "\n",
    "# iterating over each max_depth value from 1 to the maximum depth of the tree\n",
    "for i in range(1, decision_tree.tree_.max_depth + 1):\n",
    "    \n",
    "    # creating a DT for the max_depth\n",
    "    dtree = DecisionTreeClassifier(max_depth=i)\n",
    "\n",
    "    # training the model on the training data\n",
    "    dtree.fit(X_train, y_train)\n",
    "\n",
    "    # test set prediction\n",
    "    y_depth_pred = dtree.predict(X_test)\n",
    "\n",
    "    # calculating the error rate and store it in the error_rates list\n",
    "    error_rate = 1 - accuracy_score(y_test, y_depth_pred)\n",
    "    error_rates.append(error_rate)\n",
    "\n",
    "# finding optimal max_depth with the minimum error rate\n",
    "optimal_max_depth = np.argmin(error_rates) + 1\n",
    "\n",
    "print(\"Error rates for each max_depth value:\", error_rates)\n",
    "print(\"Optimal max_depth:\", optimal_max_depth)"
   ]
  },
  {
   "cell_type": "markdown",
   "id": "a9371359",
   "metadata": {},
   "source": [
    "__3. I plot the overall error rate on the y-axis and the maximum depth of the tree on the x-axis. Also, I use np.argmin() on the error rates I obtained to retrieve the optimal maximum depth of the tree with the least error rate.__"
   ]
  },
  {
   "cell_type": "code",
   "execution_count": 84,
   "id": "a04d0a43",
   "metadata": {},
   "outputs": [
    {
     "data": {
      "image/png": "[encoded data removed]",
      "text/plain": [
       "<Figure size 640x480 with 1 Axes>"
      ]
     },
     "metadata": {},
     "output_type": "display_data"
    },
    {
     "name": "stdout",
     "output_type": "stream",
     "text": [
      "Error rates for each max_depth value: [0.31799999999999995]\n",
      "Optimal max_depth (with least error rate): 1\n"
     ]
    }
   ],
   "source": [
    "plt.plot(range(1, decision_tree.tree_.max_depth + 1), error_rates, marker = 'o')\n",
    "plt.xlabel('Max Depth of the Tree')\n",
    "plt.ylabel('Overall Error Rate')\n",
    "plt.title('Error Rate v. Maximum Depth Comparison')\n",
    "plt.grid(True)\n",
    "plt.show()\n",
    "\n",
    "print(\"Error rates for each max_depth value:\", error_rates)\n",
    "print(\"Optimal max_depth (with least error rate):\", optimal_max_depth)"
   ]
  },
  {
   "cell_type": "markdown",
   "id": "93eb138b",
   "metadata": {},
   "source": [
    "**I find the optimal maximum depth of the decision tree model using grid search cross validation. Additionally, I optimizied the max_features hyperparameter as well. I used the GridSearchCV() constructor inside the sklearn.model_selection module. The parameter is set to cv=8.**"
   ]
  },
  {
   "cell_type": "code",
   "execution_count": 10,
   "id": "93ee968b",
   "metadata": {},
   "outputs": [
    {
     "data": {
      "text/plain": [
       "{'max_depth': 6, 'max_features': 0.8}"
      ]
     },
     "execution_count": 10,
     "metadata": {},
     "output_type": "execute_result"
    }
   ],
   "source": [
    "param_grid = {\"max_depth\":range(1,18), \n",
    "\"max_features\":[0.2, 0.4, 0.6, 0.8]}\n",
    "\n",
    "decision_tree = DecisionTreeClassifier()\n",
    "gridsearch_decision_tree = GridSearchCV(decision_tree, param_grid, cv = 8)\n",
    "gridsearch_decision_tree.fit(X_train, y_train)\n",
    "\n",
    "gridsearch_decision_tree.best_params_"
   ]
  },
  {
   "cell_type": "markdown",
   "id": "36b5c8ce",
   "metadata": {},
   "source": [
    "**The maximum depth hyperparameter was tuned again using cross validation but this time, I used the cross_val_score() function inside the sklearn.model_selection module. The cross_val_score() function in combination with a for loop was used to find the optimal maximum depth of the tree.**\n",
    "\n",
    "**The error rate for each depth was tracked, and plotted _(error rates versus the corresponding maximum depths of the tree)_. Also, the np.argmin() was used on the error rates to retrieve the optimal maximum depth, corresponding to the lowest error rate.**"
   ]
  },
  {
   "cell_type": "code",
   "execution_count": 110,
   "id": "2b87203f",
   "metadata": {},
   "outputs": [
    {
     "data": {
      "text/plain": [
       "[<matplotlib.lines.Line2D at 0x176ee5e50>]"
      ]
     },
     "execution_count": 110,
     "metadata": {},
     "output_type": "execute_result"
    },
    {
     "data": {
      "image/png": "[encoded data removed]",
      "text/plain": [
       "<Figure size 640x480 with 1 Axes>"
      ]
     },
     "metadata": {},
     "output_type": "display_data"
    }
   ],
   "source": [
    "scores = []\n",
    "for i in range(1,18):\n",
    "    dtree1 = DecisionTreeClassifier(max_depth = i)\n",
    "    dtree1.fit(X_train, y_train)\n",
    "    scores.append(1 - np.mean(cross_val_score(dtree1, X_train, y_train, scoring \n",
    "                                              = \"accuracy\", cv = 8)))\n",
    "    \n",
    "np.argmin(scores)\n",
    "plt.plot(scores)"
   ]
  },
  {
   "cell_type": "markdown",
   "id": "f255b97b",
   "metadata": {},
   "source": [
    "**I useed another approach to plot the error rates versus the maximum depth of the tree. Here, I used the validation_curve() function inside the sklearn.model_selection module. This function implements cross validation and returns the training accuracy scores and test (validation) accuracy scores for each iteration in the k-fold cross validation, for each of the hyperparameter values. I aggregated the scores using np.mean(axis=1) to get the average of the accuracy scores for all iterations, for each hyperparameter value. Then, I used these average accuracy scores to obtain corresponding error rates for the training and test (validation) sets, and plotted the error rates on the training set versus the maximum depth values. Finally, I plotted on the same figure, the error rates of the test (or validation) set versus the maximum depth values.**"
   ]
  },
  {
   "cell_type": "code",
   "execution_count": 109,
   "id": "3f9d679d",
   "metadata": {},
   "outputs": [
    {
     "data": {
      "image/png": "[encoded data removed]",
      "text/plain": [
       "<Figure size 640x480 with 1 Axes>"
      ]
     },
     "metadata": {},
     "output_type": "display_data"
    }
   ],
   "source": [
    "dtree2 = DecisionTreeClassifier()\n",
    "dtree2.fit(X_train, y_train)\n",
    "scores = validation_curve(dtree2, X_train, y_train, param_name = \"max_depth\", param_range \n",
    "                          = range(1,18), scoring = \"accuracy\", cv = 8)\n",
    "train_scores = np.mean(scores[0], axis = 1)\n",
    "validation_scores = np.mean(scores[1], axis = 1)\n",
    "\n",
    "plt.plot(train_scores)\n",
    "plt.plot(validation_scores)\n",
    "plt.show()"
   ]
  },
  {
   "cell_type": "code",
   "execution_count": 112,
   "id": "1ffa4cbb",
   "metadata": {},
   "outputs": [
    {
     "name": "stdout",
     "output_type": "stream",
     "text": [
      "Optimal max_depth: 0.017142857142857126\n"
     ]
    }
   ],
   "source": [
    "# finding the optimal max depth\n",
    "optimal_max_depth = scores[np.argmax(validation_scores)]\n",
    "print(\"Optimal max_depth:\", optimal_max_depth)"
   ]
  }
 ],
 "metadata": {
  "kernelspec": {
   "display_name": "Python 3 (ipykernel)",
   "language": "python",
   "name": "python3"
  },
  "language_info": {
   "codemirror_mode": {
    "name": "ipython",
    "version": 3
   },
   "file_extension": ".py",
   "mimetype": "text/x-python",
   "name": "python",
   "nbconvert_exporter": "python",
   "pygments_lexer": "ipython3",
   "version": "3.11.3"
  }
 },
 "nbformat": 4,
 "nbformat_minor": 5
}
